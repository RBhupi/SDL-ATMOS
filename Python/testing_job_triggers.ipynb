{
 "cells": [
  {
   "cell_type": "markdown",
   "metadata": {},
   "source": [
    "# Create and submits a mobotix job to the Waggle scheduler.\n",
    "\n",
    "It is expected to monitors or trigger by an event (`scan_event`) to submit the jobs.\n",
    "\n",
    "My idea is to,\n",
    "\n",
    "0. A model or radar analyzer running in the HPC will know about the detected/expected weather system.\n",
    "1. This code will then dynamically generates a YAML file for the specified direction for IR scanning with direction to scan are passed as a list (e.g., [\"NW\", \"SW\", \"NE\"]) for the my plugin arguments.\n",
    "2. Then submits the job using `sesctl`.\n",
    "    - Sets the SES environment variables (`SES_HOST` and `SES_USER_TOKEN`).\n",
    "    - Creates the job and the `job_id` is extracted from the response.\n",
    "    - The job is then submitted to the scheduler using the `job_id`.\n",
    "\n",
    "3. The driving function or the main script will monitor the `scan_event` variables or ENV or may be a thread something like that. If it is `True`, it calls the job creation and submission functions."
   ]
  },
  {
   "cell_type": "markdown",
   "metadata": {},
   "source": [
    "## Setting Up `sesctl`\n",
    "\n",
    "1. **Download `sesctl`**:\n",
    "    - Visit the [Waggle Edge Scheduler Releases](https://github.com/waggle-sensor/edge-scheduler/releases/) page.\n",
    "    - For Mac users, download the [sesctl-darwin-amd64](https://github.com/waggle-sensor/edge-scheduler/releases/download/0.27.2/sesctl-darwin-amd64) executable.\n",
    "2.  `sesctl` is a stand alone executable program that runs from terminal.\n",
    "3. **Set Up Environment Variables**:\n",
    "    - Open your terminal and set the following environment variables:\n",
    "\n",
    "      ```sh\n",
    "      export SES_HOST=https://es.sagecontinuum.org\n",
    "      export SES_USER_TOKEN=<<VALID TOKEN>>\n",
    "      ```\n"
   ]
  },
  {
   "cell_type": "code",
   "execution_count": 27,
   "metadata": {},
   "outputs": [],
   "source": [
    "import subprocess\n",
    "import os"
   ]
  },
  {
   "cell_type": "markdown",
   "metadata": {},
   "source": [
    "If we have multiple configurations created then we do not need this function. However, for the custom configuration for each events, like camera scan in perticular direction, we can modify the and  make it more flexible."
   ]
  },
  {
   "cell_type": "code",
   "execution_count": 28,
   "metadata": {},
   "outputs": [],
   "source": [
    "import yaml\n",
    "\n",
    "def create_job_file(directions, nodes, ip, username, password, south, filename=\"dynamic_scan_job.yaml\"):\n",
    "    \"\"\"\n",
    "    Creates a job file dynamically for the Waggle scheduler.\n",
    "\n",
    "    Parameters:\n",
    "        directions (list): List of directions for scanning (e.g., [\"NEH\", \"NEB\", \"NEG\"]).\n",
    "        nodes (dict): Dictionary of node names and their statuses (e.g., {\"W020\": True}).\n",
    "        ip (str): IP address of the camera (e.g., \"camera-mobotix-thermal\").\n",
    "        username (str): Username for the camera (e.g., \"admin\").\n",
    "        password (str): Password for the camera (e.g., \"wagglesage\").\n",
    "        south (str): South parameter value (e.g., \"22\").\n",
    "        filename (str): The name of the output YAML file.\n",
    "\n",
    "    Returns:\n",
    "        str: The name of the generated job file.\n",
    "    \"\"\"\n",
    "    job = {\n",
    "        \"name\": \"mobotix-scan-direction\",\n",
    "        \"plugins\": [\n",
    "            {\n",
    "                \"name\": \"mobotix-scan-direction\",\n",
    "                \"pluginSpec\": {\n",
    "                    \"image\": \"registry.sagecontinuum.org/bhupendraraut/mobotix-scan:0.24.8.20\",\n",
    "                    \"args\": [\n",
    "                        \"--ip\",\n",
    "                        ip,\n",
    "                        \"--mode\",\n",
    "                        \"direction\",\n",
    "                        \"-south\",\n",
    "                        south,\n",
    "                        \"-pt\",\n",
    "                        f\"{','.join(directions)}\",\n",
    "                        \"-u\",\n",
    "                        username,\n",
    "                        \"-p\",\n",
    "                        password\n",
    "                    ]\n",
    "                }\n",
    "            }\n",
    "        ],\n",
    "        \"nodes\": nodes,\n",
    "        \"scienceRules\": [\n",
    "            'schedule(\"mobotix-scan-direction\"): cronjob(\"mobotix-scan-direction\", \"* * * * *\")'\n",
    "        ],\n",
    "        \"successCriteria\": []\n",
    "    }\n",
    "\n",
    "    with open(filename, \"w\") as file:\n",
    "        yaml.dump(job, file, default_flow_style=False)\n",
    "    print(f\"Job file {filename} created successfully.\")\n",
    "    return filename\n"
   ]
  },
  {
   "cell_type": "code",
   "execution_count": 29,
   "metadata": {},
   "outputs": [
    {
     "name": "stdout",
     "output_type": "stream",
     "text": [
      "Job file dynamic_scan_job.yaml created successfully.\n",
      "Generated job file: dynamic_scan_job.yaml\n"
     ]
    }
   ],
   "source": [
    "directions = [\"NEH\", \"NEB\", \"NEG\", \"EH\", \"EB\", \"EG\", \"SEH\", \"SEB\", \"SEG\", \"SH\", \"SB\", \"SG\", \"SWH\", \"SWB\", \"SWG\"]\n",
    "nodes = {\"W021\": True, \"V032\": True}\n",
    "ip = \"camera-mobotix-thermal\"\n",
    "username = \"admin\"\n",
    "password = \"meinsm\"\n",
    "south = \"15\"\n",
    "\n",
    "# Create a job file\n",
    "job_file = create_job_file(directions, nodes, ip, username, password, south)\n",
    "print(f\"Generated job file: {job_file}\")\n"
   ]
  },
  {
   "cell_type": "code",
   "execution_count": 36,
   "metadata": {},
   "outputs": [],
   "source": [
    "import logging\n",
    "\n",
    "# Configure logging\n",
    "logging.basicConfig(level=logging.INFO, format='%(asctime)s - %(levelname)s - %(message)s')\n",
    "\n",
    "def submit_job(filename):\n",
    "    try:\n",
    "        logging.info(\"Setting SES environment variables.\")\n",
    "        subprocess.run([\"export\", \"SES_HOST=https://es.sagecontinuum.org\"], shell=True)\n",
    "        subprocess.run([\"sh\", \"sesctl_env.sh\"], shell=True)\n",
    "        \n",
    "        logging.info(\"Fetching SES_USER_TOKEN from environment.\")\n",
    "        token = os.environ.get('SES_USER_TOKEN')\n",
    "        if not token:\n",
    "            raise ValueError(\"API token not found in environment\")\n",
    "        else:\n",
    "            logging.info(\"API token found.\")\n",
    "\n",
    "        logging.info(\"Creating job.\")\n",
    "        result = subprocess.run([\"./sesctl-darwin-amd64\", \"create\", \"--file-path\", filename], check=True, capture_output=True, text=True)\n",
    "        logging.info(f\"Job creation response: {result.stdout}\")\n",
    "        \n",
    "        logging.info(\"Extracting job_id from the response.\")\n",
    "        job_id = yaml.safe_load(result.stdout).get(\"job_id\")\n",
    "        if not job_id:\n",
    "            raise ValueError(\"Job ID not found in the response.\")\n",
    "        \n",
    "        logging.info(f\"Submitting job with job_id: {job_id}.\")\n",
    "        result = subprocess.run([\"sesctl\", \"submit\", \"--job-id\", job_id], check=True, capture_output=True, text=True)\n",
    "        logging.info(f\"Job submission response: {result.stdout}\")\n",
    "    except subprocess.CalledProcessError as e:\n",
    "        logging.error(f\"Error during job submission: {e.stderr}\")\n",
    "    except Exception as e:\n",
    "        logging.error(f\"An error occurred: {e}\")\n"
   ]
  },
  {
   "cell_type": "code",
   "execution_count": 38,
   "metadata": {},
   "outputs": [
    {
     "name": "stderr",
     "output_type": "stream",
     "text": [
      "2024-12-19 10:42:00,744 - INFO - Setting SES environment variables.\n"
     ]
    },
    {
     "name": "stdout",
     "output_type": "stream",
     "text": [
      "export APPLICATIONINSIGHTS_CONFIGURATION_CONTENT=\"{}\"\n",
      "export APPLICATION_INSIGHTS_NO_DIAGNOSTIC_CHANNEL=\"1\"\n",
      "export CLICOLOR=\"1\"\n",
      "export CLICOLOR_FORCE=\"1\"\n",
      "export COMMAND_MODE=\"unix2003\"\n",
      "export CONDA_DEFAULT_ENV=\"data\"\n",
      "export CONDA_EXE=\"/Users/bhupendra/anaconda3/bin/conda\"\n",
      "export CONDA_PREFIX=\"/Users/bhupendra/anaconda3/envs/data\"\n",
      "export CONDA_PREFIX_1=\"/Users/bhupendra/anaconda3\"\n",
      "export CONDA_PREFIX_2=\"/Users/bhupendra/anaconda3/envs/data\"\n",
      "export CONDA_PREFIX_3=\"/Users/bhupendra/anaconda3\"\n",
      "export CONDA_PROMPT_MODIFIER=\"(data) \"\n",
      "export CONDA_PYTHON_EXE=\"/Users/bhupendra/anaconda3/bin/python\"\n",
      "export CONDA_ROOT=\"/Users/bhupendra/anaconda3\"\n",
      "export CONDA_SHLVL=\"4\"\n",
      "export CPL_ZIP_ENCODING=\"UTF-8\"\n",
      "export ELECTRON_RUN_AS_NODE=\"1\"\n",
      "export FORCE_COLOR=\"1\"\n",
      "export GDAL_DATA=\"/Users/bhupendra/anaconda3/envs/data/share/gdal\"\n",
      "export GDAL_DRIVER_PATH=\"/Users/bhupendra/anaconda3/envs/data/lib/gdalplugins\"\n",
      "export GIT_PAGER=\"cat\"\n",
      "export GSETTINGS_SCHEMA_DIR=\"/Users/bhupendra/anaconda3/envs/data/share/glib-2.0/schemas\"\n",
      "export GSETTINGS_SCHEMA_DIR_CONDA_BACKUP=\"\"\n",
      "export HOME=\"/Users/bhupendra\"\n",
      "export LC_CTYPE=\"UTF-8\"\n",
      "export LESS=\"-R\"\n",
      "export LOGNAME=\"bhupendra\"\n",
      "export LSCOLORS=\"Gxfxcxdxbxegedabagacad\"\n",
      "export LS_COLORS=\"di=1;36:ln=35:so=32:pi=33:ex=31:bd=34;46:cd=34;43:su=30;41:sg=30;46:tw=30;42:ow=30;43\"\n",
      "export MAGPLUS_HOME=\"/Users/bhupendra/anaconda3/envs/data\"\n",
      "export MAMBA_EXE=\"/opt/homebrew/opt/micromamba/bin/micromamba\"\n",
      "export MAMBA_ROOT_PREFIX=\"/Users/bhupendra/micromamba\"\n",
      "export MPLBACKEND=\"module://matplotlib_inline.backend_inline\"\n",
      "export MallocNanoZone=\"0\"\n",
      "export NEXT_DEPLOYMENT_ID=\"\"\n",
      "export NODE_ENV=\"production\"\n",
      "export OLDPWD\n",
      "export ORIGINAL_XDG_CURRENT_DESKTOP=\"undefined\"\n",
      "export PAGER=\"cat\"\n",
      "export PATH=\"/Users/bhupendra/anaconda3/envs/data/bin:/Users/bhupendra/anaconda3/condabin:/usr/local/bin:/System/Cryptexes/App/usr/bin:/usr/bin:/bin:/usr/sbin:/sbin:/var/run/com.apple.security.cryptexd/codex.system/bootstrap/usr/local/bin:/var/run/com.apple.security.cryptexd/codex.system/bootstrap/usr/bin:/var/run/com.apple.security.cryptexd/codex.system/bootstrap/usr/appleinternal/bin:/Library/TeX/texbin:/opt/homebrew/bin:/usr/local/go/bin:/usr/local/sbin:/Users/bhupendra/.rd/bin\"\n",
      "export PORT=\"54112\"\n",
      "export PROJ_DATA=\"/Users/bhupendra/anaconda3/envs/data/share/proj\"\n",
      "export PROJ_NETWORK=\"ON\"\n",
      "export PWD=\"/Users/bhupendra/projects/ADAM-SDL-EESS/code/Python\"\n",
      "export PYDEVD_IPYTHON_COMPATIBLE_DEBUGGING=\"1\"\n",
      "export PYDEVD_USE_FRAME_EVAL=\"NO\"\n",
      "export PYTHONIOENCODING=\"utf-8\"\n",
      "export PYTHONUNBUFFERED=\"1\"\n",
      "export PYTHON_FROZEN_MODULES=\"on\"\n",
      "export SHELL=\"/bin/zsh\"\n",
      "export SHLVL=\"3\"\n",
      "export SSH_AUTH_SOCK=\"/private/tmp/com.apple.launchd.93UKtO7Pfw/Listeners\"\n",
      "export TERM=\"xterm-color\"\n",
      "export TMPDIR=\"/var/folders/c0/hb5cyy892hqdjht868lw3qk80000gp/T/\"\n",
      "export UDUNITS2_XML_PATH=\"/Users/bhupendra/anaconda3/envs/data/share/udunits/udunits2.xml\"\n",
      "export USER=\"bhupendra\"\n",
      "export VSCODE_CODE_CACHE_PATH=\"/Users/bhupendra/Library/Application Support/Code/CachedData/138f619c86f1199955d53b4166bef66ef252935c\"\n",
      "export VSCODE_CRASH_REPORTER_PROCESS_TYPE=\"extensionHost\"\n",
      "export VSCODE_CWD=\"/\"\n",
      "export VSCODE_ESM_ENTRYPOINT=\"vs/workbench/api/node/extensionHostProcess\"\n",
      "export VSCODE_HANDLES_UNCAUGHT_ERRORS=\"true\"\n",
      "export VSCODE_IPC_HOOK=\"/Users/bhupendra/Library/Application Support/Code/1.96-main.sock\"\n",
      "export VSCODE_NLS_CONFIG=\"{\\\"userLocale\\\":\\\"en-us\\\",\\\"osLocale\\\":\\\"en-us\\\",\\\"resolvedLanguage\\\":\\\"en\\\",\\\"defaultMessagesFile\\\":\\\"/Applications/Visual Studio Code.app/Contents/Resources/app/out/nls.messages.json\\\",\\\"locale\\\":\\\"en-us\\\",\\\"availableLanguages\\\":{}}\"\n",
      "export VSCODE_PID=\"63118\"\n",
      "export XML_CATALOG_FILES=\"file:///Users/bhupendra/anaconda3/envs/data/etc/xml/catalog file:///etc/xml/catalog\"\n",
      "export XPC_FLAGS=\"0x0\"\n",
      "export XPC_SERVICE_NAME=\"0\"\n",
      "export ZSH=\"/Users/bhupendra/.oh-my-zsh\"\n",
      "export _=\"/Users/bhupendra/anaconda3/envs/data/bin/python\"\n",
      "export _CE_CONDA=\"\"\n",
      "export _CE_M=\"\"\n",
      "export _CONDA_SET_MAGPLUS_HOME=\"\"\n",
      "export __CFBundleIdentifier=\"com.microsoft.VSCode\"\n",
      "export __CF_USER_TEXT_ENCODING=\"0x1F6:0x0:0x0\"\n",
      "export __NEXT_OPTIMIZE_FONTS=\"true\"\n",
      "export __NEXT_PRIVATE_ORIGIN=\"http://localhost:54112\"\n",
      "export __NEXT_PRIVATE_RUNTIME_TYPE=\"\"\n",
      "export __NEXT_PRIVATE_STANDALONE_CONFIG=\"{\\\"env\\\":{},\\\"webpack\\\":null,\\\"eslint\\\":{\\\"ignoreDuringBuilds\\\":false},\\\"typescript\\\":{\\\"ignoreBuildErrors\\\":false,\\\"tsconfigPath\\\":\\\"tsconfig.json\\\"},\\\"distDir\\\":\\\"./.next\\\",\\\"cleanDistDir\\\":true,\\\"assetPrefix\\\":\\\"\\\",\\\"configOrigin\\\":\\\"next.config.js\\\",\\\"useFileSystemPublicRoutes\\\":true,\\\"generateEtags\\\":true,\\\"pageExtensions\\\":[\\\"tsx\\\",\\\"ts\\\",\\\"jsx\\\",\\\"js\\\"],\\\"poweredByHeader\\\":true,\\\"compress\\\":true,\\\"analyticsId\\\":\\\"\\\",\\\"images\\\":{\\\"deviceSizes\\\":[640,750,828,1080,1200,1920,2048,3840],\\\"imageSizes\\\":[16,32,48,64,96,128,256,384],\\\"path\\\":\\\"/_next/image\\\",\\\"loader\\\":\\\"default\\\",\\\"loaderFile\\\":\\\"\\\",\\\"domains\\\":[],\\\"disableStaticImages\\\":false,\\\"minimumCacheTTL\\\":60,\\\"formats\\\":[\\\"image/webp\\\"],\\\"dangerouslyAllowSVG\\\":false,\\\"contentSecurityPolicy\\\":\\\"script-src 'none'; frame-src 'none'; sandbox;\\\",\\\"contentDispositionType\\\":\\\"inline\\\",\\\"remotePatterns\\\":[],\\\"unoptimized\\\":false},\\\"devIndicators\\\":{\\\"buildActivity\\\":true,\\\"buildActivityPosition\\\":\\\"bottom-right\\\"},\\\"onDemandEntries\\\":{\\\"maxInactiveAge\\\":60000,\\\"pagesBufferLength\\\":5},\\\"amp\\\":{\\\"canonicalBase\\\":\\\"\\\"},\\\"basePath\\\":\\\"\\\",\\\"sassOptions\\\":{},\\\"trailingSlash\\\":false,\\\"i18n\\\":null,\\\"productionBrowserSourceMaps\\\":false,\\\"optimizeFonts\\\":true,\\\"excludeDefaultMomentLocales\\\":true,\\\"serverRuntimeConfig\\\":{},\\\"publicRuntimeConfig\\\":{},\\\"reactProductionProfiling\\\":false,\\\"reactStrictMode\\\":null,\\\"httpAgentOptions\\\":{\\\"keepAlive\\\":true},\\\"outputFileTracing\\\":true,\\\"staticPageGenerationTimeout\\\":60,\\\"swcMinify\\\":true,\\\"output\\\":\\\"standalone\\\",\\\"modularizeImports\\\":{\\\"@mui/icons-material\\\":{\\\"transform\\\":\\\"@mui/icons-material/{{member}}\\\"},\\\"date-fns\\\":{\\\"transform\\\":\\\"date-fns/{{member}}\\\"},\\\"lodash\\\":{\\\"transform\\\":\\\"lodash/{{member}}\\\"},\\\"lodash-es\\\":{\\\"transform\\\":\\\"lodash-es/{{member}}\\\"},\\\"ramda\\\":{\\\"transform\\\":\\\"ramda/es/{{member}}\\\"},\\\"react-bootstrap\\\":{\\\"transform\\\":{\\\"useAccordionButton\\\":\\\"modularize-import-loader?name=useAccordionButton&from=named&as=default!react-bootstrap/AccordionButton\\\",\\\"*\\\":\\\"react-bootstrap/{{member}}\\\"}},\\\"antd\\\":{\\\"transform\\\":\\\"antd/lib/{{kebabCase member}}\\\"},\\\"ahooks\\\":{\\\"transform\\\":{\\\"createUpdateEffect\\\":\\\"modularize-import-loader?name=createUpdateEffect&from=named&as=default!ahooks/es/createUpdateEffect\\\",\\\"*\\\":\\\"ahooks/es/{{member}}\\\"}},\\\"@ant-design/icons\\\":{\\\"transform\\\":{\\\"IconProvider\\\":\\\"modularize-import-loader?name=IconProvider&from=named&as=default!@ant-design/icons\\\",\\\"createFromIconfontCN\\\":\\\"@ant-design/icons/es/components/IconFont\\\",\\\"getTwoToneColor\\\":\\\"modularize-import-loader?name=getTwoToneColor&from=named&as=default!@ant-design/icons/es/components/twoTonePrimaryColor\\\",\\\"setTwoToneColor\\\":\\\"modularize-import-loader?name=setTwoToneColor&from=named&as=default!@ant-design/icons/es/components/twoTonePrimaryColor\\\",\\\"*\\\":\\\"@ant-design/icons/lib/icons/{{member}}\\\"}},\\\"next/server\\\":{\\\"transform\\\":\\\"next/dist/server/web/exports/{{ kebabCase member }}\\\"}},\\\"experimental\\\":{\\\"serverMinification\\\":true,\\\"serverSourceMaps\\\":false,\\\"caseSensitiveRoutes\\\":false,\\\"useDeploymentId\\\":false,\\\"useDeploymentIdServerActions\\\":false,\\\"clientRouterFilter\\\":true,\\\"clientRouterFilterRedirects\\\":false,\\\"fetchCacheKeyPrefix\\\":\\\"\\\",\\\"middlewarePrefetch\\\":\\\"flexible\\\",\\\"optimisticClientCache\\\":true,\\\"manualClientBasePath\\\":false,\\\"cpus\\\":9,\\\"memoryBasedWorkersCount\\\":false,\\\"isrFlushToDisk\\\":true,\\\"workerThreads\\\":false,\\\"optimizeCss\\\":false,\\\"nextScriptWorkers\\\":false,\\\"scrollRestoration\\\":false,\\\"externalDir\\\":false,\\\"disableOptimizedLoading\\\":false,\\\"gzipSize\\\":true,\\\"craCompat\\\":false,\\\"esmExternals\\\":true,\\\"isrMemoryCacheSize\\\":52428800,\\\"fullySpecified\\\":false,\\\"outputFileTracingRoot\\\":\\\"/Users/maol/WebstormProjects/Trabajo/codegpt-nextjs\\\",\\\"swcTraceProfiling\\\":false,\\\"forceSwcTransforms\\\":false,\\\"largePageDataBytes\\\":128000,\\\"adjustFontFallbacks\\\":false,\\\"adjustFontFallbacksWithSizeAdjust\\\":false,\\\"typedRoutes\\\":false,\\\"instrumentationHook\\\":false,\\\"bundlePagesExternals\\\":false,\\\"optimizePackageImports\\\":[\\\"lucide-react\\\",\\\"@headlessui/react\\\",\\\"@headlessui-float/react\\\",\\\"@heroicons/react/20/solid\\\",\\\"@heroicons/react/24/solid\\\",\\\"@heroicons/react/24/outline\\\",\\\"@visx/visx\\\",\\\"@tremor/react\\\",\\\"rxjs\\\",\\\"@mui/material\\\",\\\"@mui/icons-material\\\",\\\"recharts\\\",\\\"react-use\\\",\\\"@material-ui/core\\\",\\\"@material-ui/icons\\\",\\\"@tabler/icons-react\\\",\\\"mui-core\\\",\\\"react-icons/ai\\\",\\\"react-icons/bi\\\",\\\"react-icons/bs\\\",\\\"react-icons/cg\\\",\\\"react-icons/ci\\\",\\\"react-icons/di\\\",\\\"react-icons/fa\\\",\\\"react-icons/fa6\\\",\\\"react-icons/fc\\\",\\\"react-icons/fi\\\",\\\"react-icons/gi\\\",\\\"react-icons/go\\\",\\\"react-icons/gr\\\",\\\"react-icons/hi\\\",\\\"react-icons/hi2\\\",\\\"react-icons/im\\\",\\\"react-icons/io\\\",\\\"react-icons/io5\\\",\\\"react-icons/lia\\\",\\\"react-icons/lib\\\",\\\"react-icons/lu\\\",\\\"react-icons/md\\\",\\\"react-icons/pi\\\",\\\"react-icons/ri\\\",\\\"react-icons/rx\\\",\\\"react-icons/si\\\",\\\"react-icons/sl\\\",\\\"react-icons/tb\\\",\\\"react-icons/tfi\\\",\\\"react-icons/ti\\\",\\\"react-icons/vsc\\\",\\\"react-icons/wi\\\"],\\\"trustHostHeader\\\":false,\\\"isExperimentalCompile\\\":false},\\\"configFileName\\\":\\\"next.config.js\\\"}\"\n"
     ]
    },
    {
     "ename": "KeyboardInterrupt",
     "evalue": "",
     "output_type": "error",
     "traceback": [
      "\u001b[0;31m---------------------------------------------------------------------------\u001b[0m",
      "\u001b[0;31mKeyboardInterrupt\u001b[0m                         Traceback (most recent call last)",
      "Cell \u001b[0;32mIn[38], line 1\u001b[0m\n\u001b[0;32m----> 1\u001b[0m \u001b[43msubmit_job\u001b[49m\u001b[43m(\u001b[49m\u001b[38;5;124;43m\"\u001b[39;49m\u001b[38;5;124;43mdynamic_scan_job.yaml\u001b[39;49m\u001b[38;5;124;43m\"\u001b[39;49m\u001b[43m)\u001b[49m\n",
      "Cell \u001b[0;32mIn[36], line 10\u001b[0m, in \u001b[0;36msubmit_job\u001b[0;34m(filename)\u001b[0m\n\u001b[1;32m      8\u001b[0m logging\u001b[38;5;241m.\u001b[39minfo(\u001b[38;5;124m\"\u001b[39m\u001b[38;5;124mSetting SES environment variables.\u001b[39m\u001b[38;5;124m\"\u001b[39m)\n\u001b[1;32m      9\u001b[0m subprocess\u001b[38;5;241m.\u001b[39mrun([\u001b[38;5;124m\"\u001b[39m\u001b[38;5;124mexport\u001b[39m\u001b[38;5;124m\"\u001b[39m, \u001b[38;5;124m\"\u001b[39m\u001b[38;5;124mSES_HOST=https://es.sagecontinuum.org\u001b[39m\u001b[38;5;124m\"\u001b[39m], shell\u001b[38;5;241m=\u001b[39m\u001b[38;5;28;01mTrue\u001b[39;00m)\n\u001b[0;32m---> 10\u001b[0m \u001b[43msubprocess\u001b[49m\u001b[38;5;241;43m.\u001b[39;49m\u001b[43mrun\u001b[49m\u001b[43m(\u001b[49m\u001b[43m[\u001b[49m\u001b[38;5;124;43m\"\u001b[39;49m\u001b[38;5;124;43msh\u001b[39;49m\u001b[38;5;124;43m\"\u001b[39;49m\u001b[43m,\u001b[49m\u001b[43m \u001b[49m\u001b[38;5;124;43m\"\u001b[39;49m\u001b[38;5;124;43msesctl_env.sh\u001b[39;49m\u001b[38;5;124;43m\"\u001b[39;49m\u001b[43m]\u001b[49m\u001b[43m,\u001b[49m\u001b[43m \u001b[49m\u001b[43mshell\u001b[49m\u001b[38;5;241;43m=\u001b[39;49m\u001b[38;5;28;43;01mTrue\u001b[39;49;00m\u001b[43m)\u001b[49m\n\u001b[1;32m     12\u001b[0m logging\u001b[38;5;241m.\u001b[39minfo(\u001b[38;5;124m\"\u001b[39m\u001b[38;5;124mFetching SES_USER_TOKEN from environment.\u001b[39m\u001b[38;5;124m\"\u001b[39m)\n\u001b[1;32m     13\u001b[0m token \u001b[38;5;241m=\u001b[39m os\u001b[38;5;241m.\u001b[39menviron\u001b[38;5;241m.\u001b[39mget(\u001b[38;5;124m'\u001b[39m\u001b[38;5;124mSES_USER_TOKEN\u001b[39m\u001b[38;5;124m'\u001b[39m)\n",
      "File \u001b[0;32m~/anaconda3/envs/data/lib/python3.12/subprocess.py:550\u001b[0m, in \u001b[0;36mrun\u001b[0;34m(input, capture_output, timeout, check, *popenargs, **kwargs)\u001b[0m\n\u001b[1;32m    548\u001b[0m \u001b[38;5;28;01mwith\u001b[39;00m Popen(\u001b[38;5;241m*\u001b[39mpopenargs, \u001b[38;5;241m*\u001b[39m\u001b[38;5;241m*\u001b[39mkwargs) \u001b[38;5;28;01mas\u001b[39;00m process:\n\u001b[1;32m    549\u001b[0m     \u001b[38;5;28;01mtry\u001b[39;00m:\n\u001b[0;32m--> 550\u001b[0m         stdout, stderr \u001b[38;5;241m=\u001b[39m \u001b[43mprocess\u001b[49m\u001b[38;5;241;43m.\u001b[39;49m\u001b[43mcommunicate\u001b[49m\u001b[43m(\u001b[49m\u001b[38;5;28;43minput\u001b[39;49m\u001b[43m,\u001b[49m\u001b[43m \u001b[49m\u001b[43mtimeout\u001b[49m\u001b[38;5;241;43m=\u001b[39;49m\u001b[43mtimeout\u001b[49m\u001b[43m)\u001b[49m\n\u001b[1;32m    551\u001b[0m     \u001b[38;5;28;01mexcept\u001b[39;00m TimeoutExpired \u001b[38;5;28;01mas\u001b[39;00m exc:\n\u001b[1;32m    552\u001b[0m         process\u001b[38;5;241m.\u001b[39mkill()\n",
      "File \u001b[0;32m~/anaconda3/envs/data/lib/python3.12/subprocess.py:1201\u001b[0m, in \u001b[0;36mPopen.communicate\u001b[0;34m(self, input, timeout)\u001b[0m\n\u001b[1;32m   1199\u001b[0m         stderr \u001b[38;5;241m=\u001b[39m \u001b[38;5;28mself\u001b[39m\u001b[38;5;241m.\u001b[39mstderr\u001b[38;5;241m.\u001b[39mread()\n\u001b[1;32m   1200\u001b[0m         \u001b[38;5;28mself\u001b[39m\u001b[38;5;241m.\u001b[39mstderr\u001b[38;5;241m.\u001b[39mclose()\n\u001b[0;32m-> 1201\u001b[0m     \u001b[38;5;28;43mself\u001b[39;49m\u001b[38;5;241;43m.\u001b[39;49m\u001b[43mwait\u001b[49m\u001b[43m(\u001b[49m\u001b[43m)\u001b[49m\n\u001b[1;32m   1202\u001b[0m \u001b[38;5;28;01melse\u001b[39;00m:\n\u001b[1;32m   1203\u001b[0m     \u001b[38;5;28;01mif\u001b[39;00m timeout \u001b[38;5;129;01mis\u001b[39;00m \u001b[38;5;129;01mnot\u001b[39;00m \u001b[38;5;28;01mNone\u001b[39;00m:\n",
      "File \u001b[0;32m~/anaconda3/envs/data/lib/python3.12/subprocess.py:1264\u001b[0m, in \u001b[0;36mPopen.wait\u001b[0;34m(self, timeout)\u001b[0m\n\u001b[1;32m   1262\u001b[0m     endtime \u001b[38;5;241m=\u001b[39m _time() \u001b[38;5;241m+\u001b[39m timeout\n\u001b[1;32m   1263\u001b[0m \u001b[38;5;28;01mtry\u001b[39;00m:\n\u001b[0;32m-> 1264\u001b[0m     \u001b[38;5;28;01mreturn\u001b[39;00m \u001b[38;5;28;43mself\u001b[39;49m\u001b[38;5;241;43m.\u001b[39;49m\u001b[43m_wait\u001b[49m\u001b[43m(\u001b[49m\u001b[43mtimeout\u001b[49m\u001b[38;5;241;43m=\u001b[39;49m\u001b[43mtimeout\u001b[49m\u001b[43m)\u001b[49m\n\u001b[1;32m   1265\u001b[0m \u001b[38;5;28;01mexcept\u001b[39;00m \u001b[38;5;167;01mKeyboardInterrupt\u001b[39;00m:\n\u001b[1;32m   1266\u001b[0m     \u001b[38;5;66;03m# https://bugs.python.org/issue25942\u001b[39;00m\n\u001b[1;32m   1267\u001b[0m     \u001b[38;5;66;03m# The first keyboard interrupt waits briefly for the child to\u001b[39;00m\n\u001b[1;32m   1268\u001b[0m     \u001b[38;5;66;03m# exit under the common assumption that it also received the ^C\u001b[39;00m\n\u001b[1;32m   1269\u001b[0m     \u001b[38;5;66;03m# generated SIGINT and will exit rapidly.\u001b[39;00m\n\u001b[1;32m   1270\u001b[0m     \u001b[38;5;28;01mif\u001b[39;00m timeout \u001b[38;5;129;01mis\u001b[39;00m \u001b[38;5;129;01mnot\u001b[39;00m \u001b[38;5;28;01mNone\u001b[39;00m:\n",
      "File \u001b[0;32m~/anaconda3/envs/data/lib/python3.12/subprocess.py:2051\u001b[0m, in \u001b[0;36mPopen._wait\u001b[0;34m(self, timeout)\u001b[0m\n\u001b[1;32m   2049\u001b[0m \u001b[38;5;28;01mif\u001b[39;00m \u001b[38;5;28mself\u001b[39m\u001b[38;5;241m.\u001b[39mreturncode \u001b[38;5;129;01mis\u001b[39;00m \u001b[38;5;129;01mnot\u001b[39;00m \u001b[38;5;28;01mNone\u001b[39;00m:\n\u001b[1;32m   2050\u001b[0m     \u001b[38;5;28;01mbreak\u001b[39;00m  \u001b[38;5;66;03m# Another thread waited.\u001b[39;00m\n\u001b[0;32m-> 2051\u001b[0m (pid, sts) \u001b[38;5;241m=\u001b[39m \u001b[38;5;28;43mself\u001b[39;49m\u001b[38;5;241;43m.\u001b[39;49m\u001b[43m_try_wait\u001b[49m\u001b[43m(\u001b[49m\u001b[38;5;241;43m0\u001b[39;49m\u001b[43m)\u001b[49m\n\u001b[1;32m   2052\u001b[0m \u001b[38;5;66;03m# Check the pid and loop as waitpid has been known to\u001b[39;00m\n\u001b[1;32m   2053\u001b[0m \u001b[38;5;66;03m# return 0 even without WNOHANG in odd situations.\u001b[39;00m\n\u001b[1;32m   2054\u001b[0m \u001b[38;5;66;03m# http://bugs.python.org/issue14396.\u001b[39;00m\n\u001b[1;32m   2055\u001b[0m \u001b[38;5;28;01mif\u001b[39;00m pid \u001b[38;5;241m==\u001b[39m \u001b[38;5;28mself\u001b[39m\u001b[38;5;241m.\u001b[39mpid:\n",
      "File \u001b[0;32m~/anaconda3/envs/data/lib/python3.12/subprocess.py:2009\u001b[0m, in \u001b[0;36mPopen._try_wait\u001b[0;34m(self, wait_flags)\u001b[0m\n\u001b[1;32m   2007\u001b[0m \u001b[38;5;250m\u001b[39m\u001b[38;5;124;03m\"\"\"All callers to this function MUST hold self._waitpid_lock.\"\"\"\u001b[39;00m\n\u001b[1;32m   2008\u001b[0m \u001b[38;5;28;01mtry\u001b[39;00m:\n\u001b[0;32m-> 2009\u001b[0m     (pid, sts) \u001b[38;5;241m=\u001b[39m \u001b[43mos\u001b[49m\u001b[38;5;241;43m.\u001b[39;49m\u001b[43mwaitpid\u001b[49m\u001b[43m(\u001b[49m\u001b[38;5;28;43mself\u001b[39;49m\u001b[38;5;241;43m.\u001b[39;49m\u001b[43mpid\u001b[49m\u001b[43m,\u001b[49m\u001b[43m \u001b[49m\u001b[43mwait_flags\u001b[49m\u001b[43m)\u001b[49m\n\u001b[1;32m   2010\u001b[0m \u001b[38;5;28;01mexcept\u001b[39;00m \u001b[38;5;167;01mChildProcessError\u001b[39;00m:\n\u001b[1;32m   2011\u001b[0m     \u001b[38;5;66;03m# This happens if SIGCLD is set to be ignored or waiting\u001b[39;00m\n\u001b[1;32m   2012\u001b[0m     \u001b[38;5;66;03m# for child processes has otherwise been disabled for our\u001b[39;00m\n\u001b[1;32m   2013\u001b[0m     \u001b[38;5;66;03m# process.  This child is dead, we can't get the status.\u001b[39;00m\n\u001b[1;32m   2014\u001b[0m     pid \u001b[38;5;241m=\u001b[39m \u001b[38;5;28mself\u001b[39m\u001b[38;5;241m.\u001b[39mpid\n",
      "\u001b[0;31mKeyboardInterrupt\u001b[0m: "
     ]
    }
   ],
   "source": [
    "submit_job(\"dynamic_scan_job.yaml\")"
   ]
  },
  {
   "cell_type": "markdown",
   "metadata": {},
   "source": [
    "My environment was not set so this did not work, but it submitted the job before when the nv was set properly. I need to fix the part where e are setting up the environment."
   ]
  }
 ],
 "metadata": {
  "kernelspec": {
   "display_name": "data",
   "language": "python",
   "name": "python3"
  },
  "language_info": {
   "codemirror_mode": {
    "name": "ipython",
    "version": 3
   },
   "file_extension": ".py",
   "mimetype": "text/x-python",
   "name": "python",
   "nbconvert_exporter": "python",
   "pygments_lexer": "ipython3",
   "version": "3.12.2"
  }
 },
 "nbformat": 4,
 "nbformat_minor": 2
}
